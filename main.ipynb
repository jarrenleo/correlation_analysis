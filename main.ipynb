{
 "cells": [
  {
   "cell_type": "markdown",
   "id": "dc8ab2fe",
   "metadata": {},
   "source": [
    "**<h1 align = \"center\">EXPLORING THE CORRELATION BETWEEN TRADITIONAL STOCKS AND CRYPTOCURRENCIES</h1>**"
   ]
  },
  {
   "cell_type": "markdown",
   "id": "b760424f",
   "metadata": {},
   "source": [
    "# **1 Aims, Objectives and Background**\n",
    "## **1.1 Introduction**\n",
    "The world of financial markets has seen a substantial evolution with the introduction of cryptocurrencies, a new asset class that has taken the world by storm. In light of this massive shift, exploring the correlation between the prices of traditional stocks and cryptocurrencies is intriguing. This study intends to understand the price correlation between the traditional stock index, the S&P 500 Index, and the cryptocurrency, Bitcoin. The reason for the choice is that the two assets serve as core market indicators in their respective markets.\n",
    "\n",
    "Despite previous research into correlations between stocks and cryptocurrencies, this report provides a more detailed analysis of the correlation between the S&P 500 Index and Bitcoin. Given their dominance in their respective markets, an in-depth analysis may offer an insightful viewpoint on the overall financial market ecosystem.\n",
    "\n",
    "The report will focus on price analysis; it does not cover other factors like market capitalisation or volume. Therefore, when mentioning correlation, it refers to price correlation. The analytical process will include data collection, cleaning, transformation, interpretation, and visualisation to aid the understanding of identified patterns.\n",
    "\n",
    "## **1.2 Aims and Objectives**\n",
    "- To determine the overall correlation between the S&P 500 Index and Bitcoin prices.\n",
    "- To assess the fluctuation in correlation using a 30 day rolling correlation coefficient.\n",
    "- To investigate specific correlation abnormalities, particularly focusing on periods of negative correlation.\n",
    "- To analyse market sentiments during these periods and understand how they may affect price trends."
   ]
  },
  {
   "cell_type": "markdown",
   "id": "55a1ec85",
   "metadata": {},
   "source": [
    "# **2 Data Collection**\n",
    "To analyse the correlation between the S&P 500 Index and Bitcoin, the following parameters have been chosen for both assets:\n",
    "- The analysis will utilise 3.5 years of historical price data, from 1 January 2020 to 31 May 2023.\n",
    "- This period offers a fair and substantial amount of time for analysis while ensuring that the most recent market developments are taken into account.\n",
    "- The opening price at the start of each trading day is the preferred price data, allowing for better consistency and simplicity.\n",
    "- The 1-day interval is the preferred data interval for analysing short-term price movements.\n",
    "- The United States Dollar (USD) is the preferred currency due to its status as the world reserve currency."
   ]
  },
  {
   "cell_type": "markdown",
   "id": "576d96ef",
   "metadata": {},
   "source": [
    "## **2.1 Modules**\n",
    "We will use the following built-in Python modules to help us collect our data:"
   ]
  },
  {
   "cell_type": "code",
   "execution_count": 1,
   "id": "11ebadd8",
   "metadata": {},
   "outputs": [],
   "source": [
    "import io\n",
    "import os\n",
    "import csv\n",
    "import zipfile\n",
    "import datetime\n",
    "import requests\n",
    "import urllib.request\n",
    "import concurrent.futures"
   ]
  },
  {
   "cell_type": "markdown",
   "id": "031f0056",
   "metadata": {},
   "source": [
    "## **2.2 S&P 500 Index Historical Price Data**"
   ]
  },
  {
   "cell_type": "markdown",
   "id": "5c94b63f",
   "metadata": {},
   "source": [
    "### **2.2.1 Data Source**\n",
    "The S&P 500 Index historical price data was sourced from Yahoo Finance [1], a well-known and publicly accessible financial platform. The data is accessible to the public by downloading the data from the Historical Data tab. Yahoo Finance is the preferred platform to source data due to its user-friendliness.\n",
    "\n",
    "To demonstrate practical programming skills, we manipulated the download URL to acquire the data programmatically instead of manually downloading the data. We used the request module in Python to open the URL and copy the data into a CSV file. The data from the CSV file is then read and manipulated from a data frame using the pandas library.\n",
    "\n",
    "We have considered alternative data sources such as Google Finance [2] and Polygon.io [3]. Google Finance has integrated its API with Google Sheets. Therefore, retrieving data with code is no longer possible. On the other hand, although Polygon.io have a comprehensive API for data extraction, they are restrictive and will require a paid tier to extract data as far back as 2020.\n",
    "\n",
    "### **2.2.2 Ethical Considerations**\n",
    "- The data acquired is not proprietary and can be used freely.\n",
    "- The analysis does not create new forms of intellectual property since the data is publicly available.\n",
    "- The data merely depicts historical financial market movements and does not discriminate nor have any power to produce dangerous or harmful assumptions.\n",
    "- The data is readily accessible from a CSV file, anonymised, and completely transparent on data processing with no potential for personally identifiable distinctions.\n",
    "- Potential biases are kept to a minimum as the S&P 500 Index represents a broad spectrum of sectors. However, it is crucial to remember that the data mainly depicts large-cap firms in the United States, which may not accurately reflect the performance of other firms in or outside the US."
   ]
  },
  {
   "cell_type": "markdown",
   "id": "4cd72ac6",
   "metadata": {},
   "source": [
    "### **Generate stock data URL**\n",
    "\n",
    "The following function generates a URL to acquire stock data:"
   ]
  },
  {
   "cell_type": "code",
   "execution_count": 2,
   "id": "bc5590e1",
   "metadata": {},
   "outputs": [],
   "source": [
    "\"\"\"\n",
    "Parameters:\n",
    "ticker (string): Stock abbreviation (e.g. S&P 500 Index = GSPC)\n",
    "startTime (int): Start timestamp in UNIX\n",
    "endTime (int): End timestamp in UNIX\n",
    "interval (string): Time elapsed between each data point\n",
    "\"\"\"\n",
    "def get_stock_url(ticker, startTime, endTime, interval):\n",
    "    return f\"https://query1.finance.yahoo.com/v7/finance/download/{ticker}?period1={startTime}&period2={endTime}&interval={interval}&events=history\""
   ]
  },
  {
   "cell_type": "markdown",
   "id": "37433afb",
   "metadata": {},
   "source": [
    "### **Convert date format**\n",
    "\n",
    "The following function converts human readable date time string (e.g. 2019-01-01T00:00:00+00:00) into a UNIX timestamp (e.g. 1546272000):\n",
    "\n",
    "*The UNIX timestamp is the number of seconds elapsed since 1st January 1970 00:00:00 UTC."
   ]
  },
  {
   "cell_type": "code",
   "execution_count": 3,
   "id": "6b89137a",
   "metadata": {},
   "outputs": [],
   "source": [
    "def to_unix_timestamp(iso8601_date_time):\n",
    "    # Parse date time string into a date object\n",
    "    date_object = datetime.datetime.strptime(iso8601_date_time, \"%Y-%m-%dT%H:%M:%S%z\")\n",
    "    # Return UNIX timestamp from the date object\n",
    "    return int(date_object.timestamp())"
   ]
  },
  {
   "cell_type": "markdown",
   "id": "e5b8f0d0",
   "metadata": {},
   "source": [
    "### **Fetch data from Yahoo Finance**\n",
    "\n",
    "The following code fetches the S&P 500 historical price data from Yahoo Finance:"
   ]
  },
  {
   "cell_type": "code",
   "execution_count": 4,
   "id": "d58559d2",
   "metadata": {},
   "outputs": [
    {
     "name": "stdout",
     "output_type": "stream",
     "text": [
      "Data fetched and written to ./data/S&P500_historical_data.csv\n"
     ]
    }
   ],
   "source": [
    "try:\n",
    "    # Specify start and end unix timestamp\n",
    "    startTime = to_unix_timestamp(\"2020-01-01T00:00:00+00:00\")\n",
    "    endTime = to_unix_timestamp(\"2023-06-01T00:00:00+00:00\")\n",
    "    # Get S&P 500 downloable url\n",
    "    url = get_stock_url(\"^SPX\", startTime, endTime, \"1d\")\n",
    "    # Specify CSV file name\n",
    "    csv_file = \"./test/S&P500_historical_data.csv\"\n",
    "    # Retrieve and write data to csv file\n",
    "    urllib.request.urlretrieve(url, csv_file)\n",
    "except Exception as error:\n",
    "    raise error\n",
    "else: \n",
    "    # Print success message if no errors\n",
    "    print(f\"Data fetched and written to {csv_file}\")"
   ]
  },
  {
   "cell_type": "markdown",
   "id": "fefb9069",
   "metadata": {},
   "source": [
    "## **2.3 Bitcoin Historical Price Data**"
   ]
  },
  {
   "cell_type": "markdown",
   "id": "49b7b44a",
   "metadata": {},
   "source": [
    "### **2.3.1 Data Source**\n",
    "The Bitcoin historical price data was sourced from Binance [4], one of the world's largest and most well-known centralized cryptocurrency exchanges. The data is publicly available, and we can download the data by specifying a trading pair, granularity, and period under the historical data section of the Binance API. Binance has also provided a GitHub repository [5] with comprehensive documentation to enable users to download their public data easily. \n",
    "\n",
    "Binance consolidates monthly data into a downloadable zip file, each representing one month's worth for a particular trading pair. For example, \"/BTCUSDT-1d-2023-01.zip\" means the daily opening price of Bitcoin against USDT (Tether, a stablecoin pegged to the US Dollar) for January 2023. Therefore, we must extract 41 months' worth of zip files to acquire the historical price data from January 2020 to May 2023.\n",
    "\n",
    "To demonstrate practical programming skills, we create a CSV file to store all historical price data. Next, we generated 41 zip URLs and requested them in parallel to reduce execution time. The responses were extracted, read, and written to the CSV file. The data from the CSV file is then read and manipulated from a data frame using the pandas library.\n",
    "\n",
    "We have considered alternative data sources such as CoinMarketCap [7] and CoinGecko [8]. Although both platforms have a comprehensive API for data extraction, they are highly restrictive. CoinMarketCap does not allow access to historical price data on their free tier plan, while CoinGecko does not give enough flexibility to specify the interval of choice.\n",
    "\n",
    "### **2.3.2 Ethical Considerations**\n",
    "- The data acquired is not proprietary and can be used freely.\n",
    "- The analysis does not create new forms of intellectual property since the data is publicly available.\n",
    "- The data does not discriminate or have any power to produce dangerous or harmful assumptions. However, the data mainly reflect the activities of traders on the Binance platform and may not completely reflect all global Bitcoin trading activities.\n",
    "- The data is readily accessible from a CSV file, anonymised, and completely transparent on data processing with no potential for personally identifiable distinctions.\n",
    "- Potential biases are kept to a minimum as the prices of Bitcoin are not dictated by an individual but defined by the collective decisions of millions of traders worldwide."
   ]
  },
  {
   "cell_type": "markdown",
   "id": "e64a3a7d",
   "metadata": {},
   "source": [
    "### **Create CSV file**\n",
    "The following function creates a new csv file and writes headers:"
   ]
  },
  {
   "cell_type": "code",
   "execution_count": 5,
   "id": "743e5ab9",
   "metadata": {},
   "outputs": [],
   "source": [
    "def create_csv(filename, headers):\n",
    "    # Check if csv file exists\n",
    "    if os.path.isfile(f\"./test/{filename}.csv\"):\n",
    "        # Print message and raise error if exists\n",
    "        print(f\"Unable to create {filename}.csv as the file already exists.\")\n",
    "        raise FileExistsError\n",
    "\n",
    "    # Create csv file and write header\n",
    "    with open(f\"./test/{filename}.csv\", \"w+\", newline = \"\") as csv_file:\n",
    "        # Create csv writer object\n",
    "        csv_writer = csv.writer(csv_file, delimiter = \",\")\n",
    "        # Write headers \n",
    "        csv_writer.writerow(headers)\n",
    "        # Print success message\n",
    "        print(f\"Created {filename}.csv\")"
   ]
  },
  {
   "cell_type": "markdown",
   "id": "182344f1",
   "metadata": {},
   "source": [
    "### **Generate a list of URLs**\n",
    "\n",
    "The following function generates a list of urls that points to a month of cryptocurrency data from January 2020 to May 2023 (Inclusive):"
   ]
  },
  {
   "cell_type": "code",
   "execution_count": 6,
   "id": "1dbc3366",
   "metadata": {},
   "outputs": [],
   "source": [
    "'''\n",
    "Parameters:\n",
    "symbol (string): Cryptocurrency abbreviation (e.g. Bitcoin = BTC)\n",
    "interval (string): Time elapsed between each data point\n",
    "'''\n",
    "def get_crypto_url(symbol, interval):\n",
    "    # Store urls\n",
    "    urls = []\n",
    "    # Specify years\n",
    "    years = [2020, 2021, 2022, 2023]\n",
    "    # Specify months\n",
    "    months = [month for month in range(1, 12 + 1)]\n",
    "\n",
    "    # Generate a list of urls based on specified years and months\n",
    "    for year in years:\n",
    "        for month in months:\n",
    "            # Stop at May 2023\n",
    "            if (year == 2023 and month > 5): break\n",
    "            urls.append(f\"https://data.binance.vision/data/spot/monthly/klines/{symbol}/{interval}/{symbol}-{interval}-{year}-{month:02d}.zip\")\n",
    "    \n",
    "    return urls"
   ]
  },
  {
   "cell_type": "markdown",
   "id": "23f787db",
   "metadata": {},
   "source": [
    "### **Fetch data efficiently**\n",
    "\n",
    "The following functions fetches data in parallel:"
   ]
  },
  {
   "cell_type": "code",
   "execution_count": 7,
   "id": "1479e67c",
   "metadata": {},
   "outputs": [],
   "source": [
    "def fetch(url):\n",
    "    # Send get request\n",
    "    response = requests.get(url)\n",
    "    return response.content\n",
    "\n",
    "def fetch_crypto_data(symbol, interval):\n",
    "    # Get list of urls\n",
    "    urls = get_crypto_url(symbol, interval)\n",
    "    # Fetch data in parallel to reduce execution time\n",
    "    with concurrent.futures.ThreadPoolExecutor() as executor:\n",
    "        # fetch() and list of urls are passed in\n",
    "        return executor.map(fetch, urls)"
   ]
  },
  {
   "cell_type": "markdown",
   "id": "256f3cf2",
   "metadata": {},
   "source": [
    "### **Extract data from zip files**\n",
    "\n",
    "The following function extracts the responses from fetch_crypto_data() and writes data to the created csv file:"
   ]
  },
  {
   "cell_type": "code",
   "execution_count": 8,
   "id": "0b1a921b",
   "metadata": {},
   "outputs": [],
   "source": [
    "def extract_crypto_data(csv_file, responses):\n",
    "    for response in responses:\n",
    "        # Create zipfile object to read data from zipfile\n",
    "        with zipfile.ZipFile(io.BytesIO(response)) as zip_file:\n",
    "            # Retrieve file name\n",
    "            [filename] = zip_file.namelist()\n",
    "            # Open zip file\n",
    "            with zip_file.open(filename) as file:\n",
    "                # Create a csv reader object to read data from\n",
    "                csv_reader = csv.reader(io.TextIOWrapper(file), delimiter = \",\")\n",
    "                # Create a csv writer object to write data to\n",
    "                csv_writer = csv.writer(csv_file, delimiter = \",\")\n",
    "                for row in csv_reader:\n",
    "                    # Read and write data to csv\n",
    "                    # Write the date (row[0]) and open price (row[1])\n",
    "                    csv_writer.writerow([row[0], row[1]])"
   ]
  },
  {
   "cell_type": "markdown",
   "id": "fd8197d4",
   "metadata": {},
   "source": [
    "### **Fetch data from Binance**\n",
    "\n",
    "The following code fetches the Bitcoin historical price data from Binance:"
   ]
  },
  {
   "cell_type": "code",
   "execution_count": 9,
   "id": "b4dd840b",
   "metadata": {},
   "outputs": [
    {
     "name": "stdout",
     "output_type": "stream",
     "text": [
      "Created btc_historical_data.csv\n",
      "Data fetched and written to ./data/btc_historical_data.csv\n"
     ]
    }
   ],
   "source": [
    "# Create csv file\n",
    "create_csv(\"btc_historical_data\", [\"Date\", \"Open\"])\n",
    "# Open created csv file\n",
    "with open(\"./test/btc_historical_data.csv\", \"a\", newline = \"\") as csv_file:\n",
    "    try:\n",
    "        # Fetch data\n",
    "        responses = fetch_crypto_data(\"BTCUSDT\", \"1d\")\n",
    "        # Extract data\n",
    "        extract_crypto_data(csv_file, responses)\n",
    "    except Exception as error:\n",
    "        # Raise error if any\n",
    "        raise error\n",
    "    else:\n",
    "        # Print success message if no errors\n",
    "        print(f\"Data fetched and written to {csv_file.name}\")"
   ]
  },
  {
   "cell_type": "markdown",
   "id": "be7ffd68",
   "metadata": {},
   "source": [
    "# **3 Data Preparation**"
   ]
  },
  {
   "cell_type": "markdown",
   "id": "222f1643",
   "metadata": {},
   "source": [
    "## **3.1 Libraries**\n",
    "We will use the pandas library to help us prepare our data:"
   ]
  },
  {
   "cell_type": "code",
   "execution_count": 10,
   "id": "efb42e14",
   "metadata": {},
   "outputs": [],
   "source": [
    "import pandas as pd"
   ]
  },
  {
   "cell_type": "markdown",
   "id": "bdb6f058",
   "metadata": {},
   "source": [
    "### **Import data into pandas dataframe**\n",
    "\n",
    "The following code uses the pandas library to read and combine datasets into a multi-index dataframe:"
   ]
  },
  {
   "cell_type": "code",
   "execution_count": 11,
   "id": "fa4596f3",
   "metadata": {},
   "outputs": [
    {
     "data": {
      "text/html": [
       "<div>\n",
       "<style scoped>\n",
       "    .dataframe tbody tr th:only-of-type {\n",
       "        vertical-align: middle;\n",
       "    }\n",
       "\n",
       "    .dataframe tbody tr th {\n",
       "        vertical-align: top;\n",
       "    }\n",
       "\n",
       "    .dataframe thead tr th {\n",
       "        text-align: left;\n",
       "    }\n",
       "</style>\n",
       "<table border=\"1\" class=\"dataframe\">\n",
       "  <thead>\n",
       "    <tr>\n",
       "      <th></th>\n",
       "      <th colspan=\"2\" halign=\"left\">S&amp;P 500</th>\n",
       "      <th colspan=\"2\" halign=\"left\">Bitcoin</th>\n",
       "    </tr>\n",
       "    <tr>\n",
       "      <th></th>\n",
       "      <th>Date</th>\n",
       "      <th>Open</th>\n",
       "      <th>Date</th>\n",
       "      <th>Open</th>\n",
       "    </tr>\n",
       "  </thead>\n",
       "  <tbody>\n",
       "    <tr>\n",
       "      <th>0</th>\n",
       "      <td>2020-01-02</td>\n",
       "      <td>3244.669922</td>\n",
       "      <td>1577836800000</td>\n",
       "      <td>7195.24</td>\n",
       "    </tr>\n",
       "    <tr>\n",
       "      <th>1</th>\n",
       "      <td>2020-01-03</td>\n",
       "      <td>3226.360107</td>\n",
       "      <td>1577923200000</td>\n",
       "      <td>7200.77</td>\n",
       "    </tr>\n",
       "    <tr>\n",
       "      <th>2</th>\n",
       "      <td>2020-01-06</td>\n",
       "      <td>3217.550049</td>\n",
       "      <td>1578009600000</td>\n",
       "      <td>6965.49</td>\n",
       "    </tr>\n",
       "    <tr>\n",
       "      <th>3</th>\n",
       "      <td>2020-01-07</td>\n",
       "      <td>3241.860107</td>\n",
       "      <td>1578096000000</td>\n",
       "      <td>7345.0</td>\n",
       "    </tr>\n",
       "    <tr>\n",
       "      <th>4</th>\n",
       "      <td>2020-01-08</td>\n",
       "      <td>3238.590088</td>\n",
       "      <td>1578182400000</td>\n",
       "      <td>7354.19</td>\n",
       "    </tr>\n",
       "  </tbody>\n",
       "</table>\n",
       "</div>"
      ],
      "text/plain": [
       "      S&P 500                     Bitcoin         \n",
       "         Date         Open           Date     Open\n",
       "0  2020-01-02  3244.669922  1577836800000  7195.24\n",
       "1  2020-01-03  3226.360107  1577923200000  7200.77\n",
       "2  2020-01-06  3217.550049  1578009600000  6965.49\n",
       "3  2020-01-07  3241.860107  1578096000000   7345.0\n",
       "4  2020-01-08  3238.590088  1578182400000  7354.19"
      ]
     },
     "execution_count": 11,
     "metadata": {},
     "output_type": "execute_result"
    }
   ],
   "source": [
    "# Read data from csv\n",
    "sp500_data = pd.read_csv(\"./data/S&P500_historical_data.csv\")\n",
    "btc_data = pd.read_csv(\"./data/btc_historical_data.csv\")\n",
    "\n",
    "# Create Multi-index column\n",
    "columns = pd.MultiIndex.from_tuples([\n",
    "    (\"S&P 500\", \"Date\"),\n",
    "    (\"S&P 500\", \"Open\"),\n",
    "    (\"Bitcoin\", \"Date\"),\n",
    "    (\"Bitcoin\", \"Open\"),\n",
    "])\n",
    "\n",
    "# Create dataframe to compare S&P 500 and Bitcoin data\n",
    "df = pd.DataFrame(columns = columns, data = pd.concat([sp500_data[[\"Date\", \"Open\"]], btc_data], axis = 1).values)\n",
    "\n",
    "df.head()"
   ]
  },
  {
   "cell_type": "markdown",
   "id": "26538561",
   "metadata": {},
   "source": [
    "In the above dataframe, the assets have a different date format and price precision."
   ]
  },
  {
   "cell_type": "markdown",
   "id": "2354647a",
   "metadata": {},
   "source": [
    "### **Standardisation of asset prices**\n",
    "\n",
    "The following function ensures that both assets have the same price precision of 2 decimal place:"
   ]
  },
  {
   "cell_type": "code",
   "execution_count": 12,
   "id": "9fc53f44",
   "metadata": {},
   "outputs": [
    {
     "data": {
      "text/html": [
       "<div>\n",
       "<style scoped>\n",
       "    .dataframe tbody tr th:only-of-type {\n",
       "        vertical-align: middle;\n",
       "    }\n",
       "\n",
       "    .dataframe tbody tr th {\n",
       "        vertical-align: top;\n",
       "    }\n",
       "\n",
       "    .dataframe thead tr th {\n",
       "        text-align: left;\n",
       "    }\n",
       "</style>\n",
       "<table border=\"1\" class=\"dataframe\">\n",
       "  <thead>\n",
       "    <tr>\n",
       "      <th></th>\n",
       "      <th colspan=\"2\" halign=\"left\">S&amp;P 500</th>\n",
       "      <th colspan=\"2\" halign=\"left\">Bitcoin</th>\n",
       "    </tr>\n",
       "    <tr>\n",
       "      <th></th>\n",
       "      <th>Date</th>\n",
       "      <th>Open</th>\n",
       "      <th>Date</th>\n",
       "      <th>Open</th>\n",
       "    </tr>\n",
       "  </thead>\n",
       "  <tbody>\n",
       "    <tr>\n",
       "      <th>0</th>\n",
       "      <td>2020-01-02</td>\n",
       "      <td>3244.67</td>\n",
       "      <td>1577836800000</td>\n",
       "      <td>7195.24</td>\n",
       "    </tr>\n",
       "    <tr>\n",
       "      <th>1</th>\n",
       "      <td>2020-01-03</td>\n",
       "      <td>3226.36</td>\n",
       "      <td>1577923200000</td>\n",
       "      <td>7200.77</td>\n",
       "    </tr>\n",
       "    <tr>\n",
       "      <th>2</th>\n",
       "      <td>2020-01-06</td>\n",
       "      <td>3217.55</td>\n",
       "      <td>1578009600000</td>\n",
       "      <td>6965.49</td>\n",
       "    </tr>\n",
       "    <tr>\n",
       "      <th>3</th>\n",
       "      <td>2020-01-07</td>\n",
       "      <td>3241.86</td>\n",
       "      <td>1578096000000</td>\n",
       "      <td>7345.0</td>\n",
       "    </tr>\n",
       "    <tr>\n",
       "      <th>4</th>\n",
       "      <td>2020-01-08</td>\n",
       "      <td>3238.59</td>\n",
       "      <td>1578182400000</td>\n",
       "      <td>7354.19</td>\n",
       "    </tr>\n",
       "  </tbody>\n",
       "</table>\n",
       "</div>"
      ],
      "text/plain": [
       "      S&P 500                 Bitcoin         \n",
       "         Date     Open           Date     Open\n",
       "0  2020-01-02  3244.67  1577836800000  7195.24\n",
       "1  2020-01-03  3226.36  1577923200000  7200.77\n",
       "2  2020-01-06  3217.55  1578009600000  6965.49\n",
       "3  2020-01-07  3241.86  1578096000000   7345.0\n",
       "4  2020-01-08  3238.59  1578182400000  7354.19"
      ]
     },
     "execution_count": 12,
     "metadata": {},
     "output_type": "execute_result"
    }
   ],
   "source": [
    "def round_price(asset):\n",
    "    # Go through each asset open price\n",
    "    for i, price in df[(f\"{asset}\", \"Open\")].items():\n",
    "        # Round and update price to 2 decimal place\n",
    "        df.at[i, (f\"{asset}\", \"Open\")] = round(price, 2)\n",
    "\n",
    "round_price(\"S&P 500\")\n",
    "round_price(\"Bitcoin\")\n",
    "\n",
    "df.head()"
   ]
  },
  {
   "cell_type": "markdown",
   "id": "998a9194",
   "metadata": {},
   "source": [
    "### **Standardisation of data format**\n",
    "\n",
    "The following function ensures both assets have the same date format:"
   ]
  },
  {
   "cell_type": "code",
   "execution_count": 13,
   "id": "bc456588",
   "metadata": {},
   "outputs": [
    {
     "data": {
      "text/html": [
       "<div>\n",
       "<style scoped>\n",
       "    .dataframe tbody tr th:only-of-type {\n",
       "        vertical-align: middle;\n",
       "    }\n",
       "\n",
       "    .dataframe tbody tr th {\n",
       "        vertical-align: top;\n",
       "    }\n",
       "\n",
       "    .dataframe thead tr th {\n",
       "        text-align: left;\n",
       "    }\n",
       "</style>\n",
       "<table border=\"1\" class=\"dataframe\">\n",
       "  <thead>\n",
       "    <tr>\n",
       "      <th></th>\n",
       "      <th colspan=\"2\" halign=\"left\">S&amp;P 500</th>\n",
       "      <th colspan=\"2\" halign=\"left\">Bitcoin</th>\n",
       "    </tr>\n",
       "    <tr>\n",
       "      <th></th>\n",
       "      <th>Date</th>\n",
       "      <th>Open</th>\n",
       "      <th>Date</th>\n",
       "      <th>Open</th>\n",
       "    </tr>\n",
       "  </thead>\n",
       "  <tbody>\n",
       "    <tr>\n",
       "      <th>0</th>\n",
       "      <td>2020-01-02</td>\n",
       "      <td>3244.67</td>\n",
       "      <td>2020-01-01</td>\n",
       "      <td>7195.24</td>\n",
       "    </tr>\n",
       "    <tr>\n",
       "      <th>1</th>\n",
       "      <td>2020-01-03</td>\n",
       "      <td>3226.36</td>\n",
       "      <td>2020-01-02</td>\n",
       "      <td>7200.77</td>\n",
       "    </tr>\n",
       "    <tr>\n",
       "      <th>2</th>\n",
       "      <td>2020-01-06</td>\n",
       "      <td>3217.55</td>\n",
       "      <td>2020-01-03</td>\n",
       "      <td>6965.49</td>\n",
       "    </tr>\n",
       "    <tr>\n",
       "      <th>3</th>\n",
       "      <td>2020-01-07</td>\n",
       "      <td>3241.86</td>\n",
       "      <td>2020-01-04</td>\n",
       "      <td>7345.0</td>\n",
       "    </tr>\n",
       "    <tr>\n",
       "      <th>4</th>\n",
       "      <td>2020-01-08</td>\n",
       "      <td>3238.59</td>\n",
       "      <td>2020-01-05</td>\n",
       "      <td>7354.19</td>\n",
       "    </tr>\n",
       "  </tbody>\n",
       "</table>\n",
       "</div>"
      ],
      "text/plain": [
       "      S&P 500              Bitcoin         \n",
       "         Date     Open        Date     Open\n",
       "0  2020-01-02  3244.67  2020-01-01  7195.24\n",
       "1  2020-01-03  3226.36  2020-01-02  7200.77\n",
       "2  2020-01-06  3217.55  2020-01-03  6965.49\n",
       "3  2020-01-07  3241.86  2020-01-04   7345.0\n",
       "4  2020-01-08  3238.59  2020-01-05  7354.19"
      ]
     },
     "execution_count": 13,
     "metadata": {},
     "output_type": "execute_result"
    }
   ],
   "source": [
    "def unix_to_date(unix_timestamp):\n",
    "    # Convert unix timestamp in milliseconds to date string\n",
    "    return datetime.date.fromtimestamp(int(unix_timestamp) / 1000).strftime(\"%Y-%m-%d\")\n",
    "\n",
    "# Go through each Bitcoin date\n",
    "for i, date in df[\"Bitcoin\"][\"Date\"].items():\n",
    "    # Update date from unix timestamp to date string\n",
    "    df.at[i, (\"Bitcoin\", \"Date\")] = unix_to_date(date)\n",
    "\n",
    "df.head()"
   ]
  },
  {
   "cell_type": "markdown",
   "id": "5c15dae0",
   "metadata": {},
   "source": [
    "### **Removal of non-trading days**\n",
    "\n",
    "Unlike the cryptocurreny market, weekends and public holidays are considered non-trading days for the stock market.<br>\n",
    "The following code filters the Bitcoin dataframe to only include dates where the stock market is a trading day:"
   ]
  },
  {
   "cell_type": "code",
   "execution_count": 14,
   "id": "427b81b8",
   "metadata": {},
   "outputs": [
    {
     "data": {
      "text/html": [
       "<div>\n",
       "<style scoped>\n",
       "    .dataframe tbody tr th:only-of-type {\n",
       "        vertical-align: middle;\n",
       "    }\n",
       "\n",
       "    .dataframe tbody tr th {\n",
       "        vertical-align: top;\n",
       "    }\n",
       "\n",
       "    .dataframe thead th {\n",
       "        text-align: right;\n",
       "    }\n",
       "</style>\n",
       "<table border=\"1\" class=\"dataframe\">\n",
       "  <thead>\n",
       "    <tr style=\"text-align: right;\">\n",
       "      <th></th>\n",
       "      <th>Date</th>\n",
       "      <th>Open (S&amp;P 500)</th>\n",
       "      <th>Open (Bitcoin)</th>\n",
       "    </tr>\n",
       "  </thead>\n",
       "  <tbody>\n",
       "    <tr>\n",
       "      <th>0</th>\n",
       "      <td>2020-01-02</td>\n",
       "      <td>3244.67</td>\n",
       "      <td>7200.77</td>\n",
       "    </tr>\n",
       "    <tr>\n",
       "      <th>1</th>\n",
       "      <td>2020-01-03</td>\n",
       "      <td>3226.36</td>\n",
       "      <td>6965.49</td>\n",
       "    </tr>\n",
       "    <tr>\n",
       "      <th>2</th>\n",
       "      <td>2020-01-06</td>\n",
       "      <td>3217.55</td>\n",
       "      <td>7357.64</td>\n",
       "    </tr>\n",
       "    <tr>\n",
       "      <th>3</th>\n",
       "      <td>2020-01-07</td>\n",
       "      <td>3241.86</td>\n",
       "      <td>7758.9</td>\n",
       "    </tr>\n",
       "    <tr>\n",
       "      <th>4</th>\n",
       "      <td>2020-01-08</td>\n",
       "      <td>3238.59</td>\n",
       "      <td>8145.92</td>\n",
       "    </tr>\n",
       "  </tbody>\n",
       "</table>\n",
       "</div>"
      ],
      "text/plain": [
       "         Date Open (S&P 500) Open (Bitcoin)\n",
       "0  2020-01-02        3244.67        7200.77\n",
       "1  2020-01-03        3226.36        6965.49\n",
       "2  2020-01-06        3217.55        7357.64\n",
       "3  2020-01-07        3241.86         7758.9\n",
       "4  2020-01-08        3238.59        8145.92"
      ]
     },
     "execution_count": 14,
     "metadata": {},
     "output_type": "execute_result"
    }
   ],
   "source": [
    "sp500_df = df[\"S&P 500\"]\n",
    "btc_df = df[\"Bitcoin\"]\n",
    "# Filter Bitcoin df by checking if a date is a stock trading day\n",
    "btc_df = btc_df[btc_df[\"Date\"].isin(sp500_df[\"Date\"])]\n",
    "# Merge df based on date\n",
    "df = pd.merge(sp500_df, btc_df, on = \"Date\", suffixes = (\" (S&P 500)\", \" (Bitcoin)\"))\n",
    "\n",
    "df.head()"
   ]
  },
  {
   "cell_type": "markdown",
   "id": "22114dec",
   "metadata": {},
   "source": [
    "# **4 Data Transformation**"
   ]
  },
  {
   "cell_type": "markdown",
   "id": "d15701f4",
   "metadata": {},
   "source": [
    "## **4.1 Normalisation**\n",
    "Given the significant differences between the prices of the S&P 500 Index and Bitcoin, normalisation makes it easier to represent data based on relative change rather than absolute change.\n",
    "Therefore by normalising data using percent change, we can perform an accurate analysis of the correlation between the two assets"
   ]
  },
  {
   "cell_type": "code",
   "execution_count": 16,
   "id": "16d3b096",
   "metadata": {},
   "outputs": [
    {
     "data": {
      "text/html": [
       "<div>\n",
       "<style scoped>\n",
       "    .dataframe tbody tr th:only-of-type {\n",
       "        vertical-align: middle;\n",
       "    }\n",
       "\n",
       "    .dataframe tbody tr th {\n",
       "        vertical-align: top;\n",
       "    }\n",
       "\n",
       "    .dataframe thead th {\n",
       "        text-align: right;\n",
       "    }\n",
       "</style>\n",
       "<table border=\"1\" class=\"dataframe\">\n",
       "  <thead>\n",
       "    <tr style=\"text-align: right;\">\n",
       "      <th></th>\n",
       "      <th>Date</th>\n",
       "      <th>Open (S&amp;P 500)</th>\n",
       "      <th>Open (Bitcoin)</th>\n",
       "      <th>Returns (S&amp;P 500)</th>\n",
       "      <th>Returns (Bitcoin)</th>\n",
       "    </tr>\n",
       "  </thead>\n",
       "  <tbody>\n",
       "    <tr>\n",
       "      <th>1</th>\n",
       "      <td>2020-01-03</td>\n",
       "      <td>3226.36</td>\n",
       "      <td>6965.49</td>\n",
       "      <td>-0.564310</td>\n",
       "      <td>-3.267428</td>\n",
       "    </tr>\n",
       "    <tr>\n",
       "      <th>2</th>\n",
       "      <td>2020-01-06</td>\n",
       "      <td>3217.55</td>\n",
       "      <td>7357.64</td>\n",
       "      <td>-0.273063</td>\n",
       "      <td>5.629898</td>\n",
       "    </tr>\n",
       "    <tr>\n",
       "      <th>3</th>\n",
       "      <td>2020-01-07</td>\n",
       "      <td>3241.86</td>\n",
       "      <td>7758.9</td>\n",
       "      <td>0.755544</td>\n",
       "      <td>5.453651</td>\n",
       "    </tr>\n",
       "    <tr>\n",
       "      <th>4</th>\n",
       "      <td>2020-01-08</td>\n",
       "      <td>3238.59</td>\n",
       "      <td>8145.92</td>\n",
       "      <td>-0.100868</td>\n",
       "      <td>4.988078</td>\n",
       "    </tr>\n",
       "    <tr>\n",
       "      <th>5</th>\n",
       "      <td>2020-01-09</td>\n",
       "      <td>3266.03</td>\n",
       "      <td>8054.72</td>\n",
       "      <td>0.847282</td>\n",
       "      <td>-1.119579</td>\n",
       "    </tr>\n",
       "  </tbody>\n",
       "</table>\n",
       "</div>"
      ],
      "text/plain": [
       "         Date Open (S&P 500) Open (Bitcoin)  Returns (S&P 500)  \\\n",
       "1  2020-01-03        3226.36        6965.49          -0.564310   \n",
       "2  2020-01-06        3217.55        7357.64          -0.273063   \n",
       "3  2020-01-07        3241.86         7758.9           0.755544   \n",
       "4  2020-01-08        3238.59        8145.92          -0.100868   \n",
       "5  2020-01-09        3266.03        8054.72           0.847282   \n",
       "\n",
       "   Returns (Bitcoin)  \n",
       "1          -3.267428  \n",
       "2           5.629898  \n",
       "3           5.453651  \n",
       "4           4.988078  \n",
       "5          -1.119579  "
      ]
     },
     "execution_count": 16,
     "metadata": {},
     "output_type": "execute_result"
    }
   ],
   "source": [
    "# Calculate percent change returns\n",
    "df[\"Returns (S&P 500)\"] = df[\"Open (S&P 500)\"].pct_change() * 100\n",
    "df[\"Returns (Bitcoin)\"] = df[\"Open (Bitcoin)\"].pct_change() * 100\n",
    "# Drop first index as there is no initial value to calculate percent change returns\n",
    "df.dropna(inplace = True)\n",
    "df.head()"
   ]
  },
  {
   "cell_type": "markdown",
   "id": "f9a15bbe",
   "metadata": {},
   "source": [
    "## **4.2 Pearson's Correlation Coefficient**\n",
    "Pearson's correlation coefficient is a statistical measure of the strength of a linear relationship between two variables [8]. Its value can range from -1 to 1.\n",
    "\n",
    "Often known as Person's r:\n",
    "- If r = -1, it indicates that the two variables have a perfect negative linear relationship. That means that if variable A increases, variable B decreases.\n",
    "- If r = 1, the two variables have a perfect positive linear relationship. That means that if variable A increases, variable B increases as well.\n",
    "\n",
    "Therefore, we assess their correlation by computing the correlation coefficient between the S&P 500 and Bitcoin."
   ]
  },
  {
   "cell_type": "markdown",
   "id": "f81cecde",
   "metadata": {},
   "source": [
    "### **4.2.1 Overall Correlation Coefficient**\n",
    "\n",
    "The overall correlation coefficient between the S&P 500 Index and Bitcoin can be computed by using the corr() method from the pandas library."
   ]
  },
  {
   "cell_type": "code",
   "execution_count": 17,
   "id": "42fe958b",
   "metadata": {},
   "outputs": [
    {
     "data": {
      "text/plain": [
       "0.2993530548316879"
      ]
     },
     "execution_count": 17,
     "metadata": {},
     "output_type": "execute_result"
    }
   ],
   "source": [
    "# Calculate overall correlation coefficient\n",
    "df[\"Returns (S&P 500)\"].corr(df[\"Returns (Bitcoin)\"])"
   ]
  },
  {
   "cell_type": "markdown",
   "id": "4197d9bb",
   "metadata": {},
   "source": [
    "An overall correlation coefficient of 0.30 (2 dp.) indicates a weak to moderate positive correlation between the S&P 500 Index and Bitcoin. That implies that Bitcoin tends to increase when the S&P 500 Index increase.\n",
    "However, there are some considerations:\n",
    "- Numerous factors influence the financial market\n",
    "- There are likely numerous occasions where the S&P 500 increased, but Bitcoin did not, or vice versa\n",
    "\n",
    "The overall correlation coefficient only tells us part of the picture. That is where the rolling correlation coefficient comes in, allowing us to examine how the correlation between the S&P 500 Index and Bitcoin evolves."
   ]
  },
  {
   "cell_type": "markdown",
   "id": "23bc7309",
   "metadata": {},
   "source": [
    "### **4.2.2 30 Day Rolling Correlation Coefficient**\n",
    "The rolling correlation coefficient between the S&P 500 Index and Bitcoin can be computed by including the rolling() method from the pandas library.<br>\n",
    "When computing the rolling correlation coefficient, we have to specify a window size, and choosing one is mainly experimental. We selected the 30-day window for the analysis."
   ]
  },
  {
   "cell_type": "code",
   "execution_count": 18,
   "id": "c78bafa2",
   "metadata": {},
   "outputs": [
    {
     "data": {
      "text/html": [
       "<div>\n",
       "<style scoped>\n",
       "    .dataframe tbody tr th:only-of-type {\n",
       "        vertical-align: middle;\n",
       "    }\n",
       "\n",
       "    .dataframe tbody tr th {\n",
       "        vertical-align: top;\n",
       "    }\n",
       "\n",
       "    .dataframe thead th {\n",
       "        text-align: right;\n",
       "    }\n",
       "</style>\n",
       "<table border=\"1\" class=\"dataframe\">\n",
       "  <thead>\n",
       "    <tr style=\"text-align: right;\">\n",
       "      <th></th>\n",
       "      <th>Date</th>\n",
       "      <th>Open (S&amp;P 500)</th>\n",
       "      <th>Open (Bitcoin)</th>\n",
       "      <th>Returns (S&amp;P 500)</th>\n",
       "      <th>Returns (Bitcoin)</th>\n",
       "      <th>Correlation Coefficient</th>\n",
       "    </tr>\n",
       "  </thead>\n",
       "  <tbody>\n",
       "    <tr>\n",
       "      <th>30</th>\n",
       "      <td>2020-02-14</td>\n",
       "      <td>3378.08</td>\n",
       "      <td>10227.78</td>\n",
       "      <td>0.361865</td>\n",
       "      <td>-0.944764</td>\n",
       "      <td>-0.110616</td>\n",
       "    </tr>\n",
       "    <tr>\n",
       "      <th>31</th>\n",
       "      <td>2020-02-18</td>\n",
       "      <td>3369.04</td>\n",
       "      <td>9706.0</td>\n",
       "      <td>-0.267608</td>\n",
       "      <td>-5.101596</td>\n",
       "      <td>-0.114995</td>\n",
       "    </tr>\n",
       "    <tr>\n",
       "      <th>32</th>\n",
       "      <td>2020-02-19</td>\n",
       "      <td>3380.39</td>\n",
       "      <td>10164.78</td>\n",
       "      <td>0.336891</td>\n",
       "      <td>4.726767</td>\n",
       "      <td>-0.084414</td>\n",
       "    </tr>\n",
       "    <tr>\n",
       "      <th>33</th>\n",
       "      <td>2020-02-20</td>\n",
       "      <td>3380.45</td>\n",
       "      <td>9594.65</td>\n",
       "      <td>0.001775</td>\n",
       "      <td>-5.608877</td>\n",
       "      <td>-0.102853</td>\n",
       "    </tr>\n",
       "    <tr>\n",
       "      <th>34</th>\n",
       "      <td>2020-02-21</td>\n",
       "      <td>3360.5</td>\n",
       "      <td>9597.21</td>\n",
       "      <td>-0.590158</td>\n",
       "      <td>0.026682</td>\n",
       "      <td>-0.086052</td>\n",
       "    </tr>\n",
       "  </tbody>\n",
       "</table>\n",
       "</div>"
      ],
      "text/plain": [
       "          Date Open (S&P 500) Open (Bitcoin)  Returns (S&P 500)  \\\n",
       "30  2020-02-14        3378.08       10227.78           0.361865   \n",
       "31  2020-02-18        3369.04         9706.0          -0.267608   \n",
       "32  2020-02-19        3380.39       10164.78           0.336891   \n",
       "33  2020-02-20        3380.45        9594.65           0.001775   \n",
       "34  2020-02-21         3360.5        9597.21          -0.590158   \n",
       "\n",
       "    Returns (Bitcoin)  Correlation Coefficient  \n",
       "30          -0.944764                -0.110616  \n",
       "31          -5.101596                -0.114995  \n",
       "32           4.726767                -0.084414  \n",
       "33          -5.608877                -0.102853  \n",
       "34           0.026682                -0.086052  "
      ]
     },
     "execution_count": 18,
     "metadata": {},
     "output_type": "execute_result"
    }
   ],
   "source": [
    "# Specify window size\n",
    "window_size = 30\n",
    "# Calculate 30 day rolling correlation coefficient\n",
    "df[\"Correlation Coefficient\"] = df[\"Returns (S&P 500)\"].rolling(window_size).corr(df[\"Returns (Bitcoin)\"])\n",
    "# Drop the first window_size - 1 index as there are no initial values to observe\n",
    "df.dropna(inplace = True)\n",
    "\n",
    "df.head()"
   ]
  },
  {
   "cell_type": "markdown",
   "id": "67f7e141",
   "metadata": {},
   "source": [
    "# **5 Data Visualisation**"
   ]
  },
  {
   "cell_type": "markdown",
   "id": "7b05b263",
   "metadata": {},
   "source": [
    "## **5.1 Libraries**\n",
    "We will use plotting libraries such as matplotlib and seaborn to help us visualise our data:"
   ]
  },
  {
   "cell_type": "code",
   "execution_count": null,
   "id": "4c0cefb8",
   "metadata": {},
   "outputs": [],
   "source": [
    "import matplotlib.pyplot as plt\n",
    "import seaborn as sns"
   ]
  },
  {
   "cell_type": "markdown",
   "id": "a463b95d",
   "metadata": {},
   "source": [
    "### **Line plot (30 Day Rolling Correlation Coefficient)**"
   ]
  },
  {
   "cell_type": "code",
   "execution_count": 19,
   "id": "77edb456",
   "metadata": {},
   "outputs": [
    {
     "data": {
      "image/png": "[encoded data removed]",
      "text/plain": [
       "<Figure size 1600x900 with 1 Axes>"
      ]
     },
     "metadata": {},
     "output_type": "display_data"
    }
   ],
   "source": [
    "# Create plot and set figure size\n",
    "fig, ax = plt.subplots(figsize = (16, 9))\n",
    "# Set title\n",
    "ax.set_title(\"30 Day Rolling Correlation Coefficient\")\n",
    "# Change x-axis Label\n",
    "ax.set_xlabel(\"Time\")\n",
    "# Set dotted line across x-axis at y = 0\n",
    "ax.axhline(0, color = \"black\", linestyle = \"dotted\")\n",
    "# Set correlation coefficient limits\n",
    "plt.ylim(-1, 1)\n",
    "# Set x-axis ticks to monthly\n",
    "# Generate an index position for every month\n",
    "xtick_positions = range(0, len(df[\"Date\"]), len(df[\"Date\"]) // 39)\n",
    "# Get date with index position\n",
    "# Create date time object with date\n",
    "# Convert date format\n",
    "xtick_labels = pd.to_datetime(df[\"Date\"].iloc[xtick_positions]).dt.strftime(\"%b %y\")\n",
    "plt.xticks(xtick_positions, xtick_labels, rotation = 45)\n",
    "# Set data points\n",
    "sns.lineplot(data = df, x = \"Date\", y = \"Correlation Coefficient\")\n",
    "plt.show()"
   ]
  },
  {
   "cell_type": "markdown",
   "id": "9e2654b5",
   "metadata": {},
   "source": [
    "### **Chart observation**\n",
    "\n",
    "Based on the 30-day rolling correlation coefficient chart, we can observe the following:\n",
    "- The chart lacks consistency and fluctuates significantly\n",
    "- The majority of the months show a positive correlation, with May 2022 marking the highest point\n",
    "- The negative correlation is also evident on several occasions, with May 2023 marking the lowest point\n",
    "\n",
    "These observations show that the relationship between the S&P 500 Index and Bitcoin is complex and highly dynamic, with large fluctuations over time. Despite periods of positive correlation, there are also instances of negative correlation, with the most notable dip being May 2023. This intriguing anomaly begs questions regarding the precise market sentiments and forces at work during this period."
   ]
  },
  {
   "cell_type": "markdown",
   "id": "888fd6b6",
   "metadata": {},
   "source": [
    "# **6 Further Analysis**\n",
    "\n",
    "We will conduct a deeper analysis of market sentiments in May 2023 to acquire a more in-depth understanding of what prompted the high negative correlation."
   ]
  },
  {
   "cell_type": "markdown",
   "id": "ce731e57",
   "metadata": {},
   "source": [
    "## **6.1 Tools**"
   ]
  },
  {
   "cell_type": "markdown",
   "id": "9ab8f823",
   "metadata": {},
   "source": [
    "The python-dotenv library is a tool to manage environment variables and is a great way to store sensitive information such as API keys. We will use this library to keep an API key. We will use the API key to retrieve cryptocurrency-related news from an API endpoint."
   ]
  },
  {
   "cell_type": "code",
   "execution_count": null,
   "id": "15e4e719",
   "metadata": {},
   "outputs": [],
   "source": [
    "pip install python-dotenv"
   ]
  },
  {
   "cell_type": "markdown",
   "id": "7a6a696c",
   "metadata": {},
   "source": [
    "The transformers library by Hugging Face is a tool that provides natural language models. We will use this library by importing a model to predict text sentiments."
   ]
  },
  {
   "cell_type": "code",
   "execution_count": null,
   "id": "327e6152",
   "metadata": {},
   "outputs": [],
   "source": [
    "pip install transformers"
   ]
  },
  {
   "cell_type": "markdown",
   "id": "152ae9b6",
   "metadata": {},
   "source": [
    "We will use the following libraries to help us analyse our data further:"
   ]
  },
  {
   "cell_type": "code",
   "execution_count": 20,
   "id": "e345d3e6",
   "metadata": {},
   "outputs": [
    {
     "data": {
      "text/plain": [
       "True"
      ]
     },
     "execution_count": 20,
     "metadata": {},
     "output_type": "execute_result"
    }
   ],
   "source": [
    "from dotenv import load_dotenv\n",
    "from transformers import pipeline"
   ]
  },
  {
   "cell_type": "markdown",
   "id": "a0c70dc7",
   "metadata": {},
   "source": [
    "## 6.2 Filtering the data\n",
    "\n",
    "### **Open prices (May 2023)**\n",
    "\n",
    "The following code filters the dataframe to May 2023:"
   ]
  },
  {
   "cell_type": "code",
   "execution_count": 21,
   "id": "532efcc0",
   "metadata": {},
   "outputs": [
    {
     "data": {
      "text/html": [
       "<div>\n",
       "<style scoped>\n",
       "    .dataframe tbody tr th:only-of-type {\n",
       "        vertical-align: middle;\n",
       "    }\n",
       "\n",
       "    .dataframe tbody tr th {\n",
       "        vertical-align: top;\n",
       "    }\n",
       "\n",
       "    .dataframe thead th {\n",
       "        text-align: right;\n",
       "    }\n",
       "</style>\n",
       "<table border=\"1\" class=\"dataframe\">\n",
       "  <thead>\n",
       "    <tr style=\"text-align: right;\">\n",
       "      <th></th>\n",
       "      <th>Date</th>\n",
       "      <th>Open (S&amp;P 500)</th>\n",
       "      <th>Open (Bitcoin)</th>\n",
       "    </tr>\n",
       "  </thead>\n",
       "  <tbody>\n",
       "    <tr>\n",
       "      <th>0</th>\n",
       "      <td>2023-05-01</td>\n",
       "      <td>4166.79</td>\n",
       "      <td>29233.2</td>\n",
       "    </tr>\n",
       "    <tr>\n",
       "      <th>1</th>\n",
       "      <td>2023-05-02</td>\n",
       "      <td>4164.1</td>\n",
       "      <td>28068.26</td>\n",
       "    </tr>\n",
       "    <tr>\n",
       "      <th>2</th>\n",
       "      <td>2023-05-03</td>\n",
       "      <td>4122.25</td>\n",
       "      <td>28669.85</td>\n",
       "    </tr>\n",
       "    <tr>\n",
       "      <th>3</th>\n",
       "      <td>2023-05-04</td>\n",
       "      <td>4082.55</td>\n",
       "      <td>29026.16</td>\n",
       "    </tr>\n",
       "    <tr>\n",
       "      <th>4</th>\n",
       "      <td>2023-05-05</td>\n",
       "      <td>4084.73</td>\n",
       "      <td>28838.16</td>\n",
       "    </tr>\n",
       "  </tbody>\n",
       "</table>\n",
       "</div>"
      ],
      "text/plain": [
       "         Date Open (S&P 500) Open (Bitcoin)\n",
       "0  2023-05-01        4166.79        29233.2\n",
       "1  2023-05-02         4164.1       28068.26\n",
       "2  2023-05-03        4122.25       28669.85\n",
       "3  2023-05-04        4082.55       29026.16\n",
       "4  2023-05-05        4084.73       28838.16"
      ]
     },
     "execution_count": 21,
     "metadata": {},
     "output_type": "execute_result"
    }
   ],
   "source": [
    "# Drop irrelevant columns\n",
    "df.drop(columns = [\"Returns (S&P 500)\", \"Returns (Bitcoin)\", \"Correlation Coefficient\"], inplace = True)\n",
    "# Set Date as index temporarily to filter based on date\n",
    "df.set_index(\"Date\", inplace = True)\n",
    "# Filter df to 05-2023\n",
    "filtered_df = df.loc[\"2023-05-01\":\"2023-05-31\"]\n",
    "# Reset index\n",
    "filtered_df.reset_index(inplace = True)\n",
    "\n",
    "filtered_df.head()"
   ]
  },
  {
   "cell_type": "markdown",
   "id": "699e6bdd",
   "metadata": {},
   "source": [
    "### **Regression plot [Open Prices (May 2023)]**"
   ]
  },
  {
   "cell_type": "code",
   "execution_count": 22,
   "id": "421d141e",
   "metadata": {},
   "outputs": [
    {
     "data": {
      "image/png": "[encoded data removed]",
      "text/plain": [
       "<Figure size 1600x900 with 2 Axes>"
      ]
     },
     "metadata": {},
     "output_type": "display_data"
    }
   ],
   "source": [
    "# Create a copy\n",
    "plot_df = filtered_df.copy()\n",
    "# Get day from date (YYYY-MM-DD)\n",
    "plot_df[\"Date\"] = plot_df[\"Date\"].str.slice(-2)\n",
    "# Convert all data point types to float as sns.regplot() do not accept object types\n",
    "plot_df = plot_df.astype(float)\n",
    "# Create plot, set no. of rows and columns and set figure size\n",
    "fig, axes = plt.subplots(nrows = 1, ncols = 2, figsize = (16, 9))\n",
    "\n",
    "def reg_plot(index, asset, color):\n",
    "    # Set data points and colour\n",
    "    sns.regplot(ax = axes[index], data = plot_df, x = \"Date\", y = f\"Open ({asset})\", color = color)\n",
    "    # Set title\n",
    "    axes[index].set_title(f\"{asset} prices (May 2023)\")\n",
    "    # Set x and y axis labels\n",
    "    axes[index].set_xlabel(\"Day\")\n",
    "    axes[index].set_ylabel(\"Price\")\n",
    "    # Set x-axis ticks to show all days\n",
    "    axes[index].set_xticks(plot_df[\"Date\"])\n",
    "\n",
    "# S&P 500 regression plot\n",
    "reg_plot(0, \"S&P 500\", \"green\")\n",
    "# Bitcoin regression plot\n",
    "reg_plot(1, \"Bitcoin\", \"orange\")\n",
    "\n",
    "plt.tight_layout()\n",
    "plt.show()"
   ]
  },
  {
   "cell_type": "markdown",
   "id": "83fff338",
   "metadata": {},
   "source": [
    "### **Chart Observation**\n",
    "\n",
    "Based on the price charts, we can observe the following:\n",
    "- The linear regression of the S&P 500 Index in May 2023 indicates a positive uptrend\n",
    "- The linear regression of Bitcoin in May 2023 indicates a negative downtrend\n",
    "\n",
    "Based on these observations, we can draw a direct link explaining why May 2023 is the month with the lowest negative correlation between the two assets. We must look into the market's attitude to understand more about Bitcoin's notable fall in May 2023. The upcoming analysis will extract news titles from various notable sources and then feed them into a pre-trained model for sentiment analysis. The goal is to uncover the fundamental causes impacting Bitcoin's performance in May 2023 by correlating these thoughts with observable price fluctuations."
   ]
  },
  {
   "cell_type": "markdown",
   "id": "db29c655",
   "metadata": {},
   "source": [
    "## **6.2 Retrieving News Data**\n",
    "\n",
    "We can find Bitcoin-related news on websites such as Coindesk [9] and Cointelegraph [10]. However, these websites have an anti-scraping solution that prevents data extraction using the BeautifulSoup library. Fortunately, there is an alternative solution using a free API provided by CryptoCompare [11]. Coindesk and Cointelegraph have granted CryptoCompare access to retrieve news data.\n",
    "\n",
    "However, one of the limitations of this API is that each successful call only returns a maximum of 50 news data, which only covers some Bitcoin-related news in May 2023. To address this issue, we created a function that recursively calls the API to gather all news data in May 2023."
   ]
  },
  {
   "cell_type": "code",
   "execution_count": 23,
   "id": "d0a43115",
   "metadata": {},
   "outputs": [
    {
     "data": {
      "text/html": [
       "<div>\n",
       "<style scoped>\n",
       "    .dataframe tbody tr th:only-of-type {\n",
       "        vertical-align: middle;\n",
       "    }\n",
       "\n",
       "    .dataframe tbody tr th {\n",
       "        vertical-align: top;\n",
       "    }\n",
       "\n",
       "    .dataframe thead th {\n",
       "        text-align: right;\n",
       "    }\n",
       "</style>\n",
       "<table border=\"1\" class=\"dataframe\">\n",
       "  <thead>\n",
       "    <tr style=\"text-align: right;\">\n",
       "      <th></th>\n",
       "      <th>Title</th>\n",
       "    </tr>\n",
       "  </thead>\n",
       "  <tbody>\n",
       "    <tr>\n",
       "      <th>0</th>\n",
       "      <td>Bitcoin Edges Below $28K as Investors Eye U.S....</td>\n",
       "    </tr>\n",
       "    <tr>\n",
       "      <th>1</th>\n",
       "      <td>ProShares’ Bitcoin Futures ETF Underperforms B...</td>\n",
       "    </tr>\n",
       "    <tr>\n",
       "      <th>2</th>\n",
       "      <td>Bitcoin on-chain and options data hint at a de...</td>\n",
       "    </tr>\n",
       "    <tr>\n",
       "      <th>3</th>\n",
       "      <td>CoinDesk Turns 10: 2021 – The Year Bitcoin Bec...</td>\n",
       "    </tr>\n",
       "    <tr>\n",
       "      <th>4</th>\n",
       "      <td>Should Russia Bolster or Ban Bitcoin?</td>\n",
       "    </tr>\n",
       "  </tbody>\n",
       "</table>\n",
       "</div>"
      ],
      "text/plain": [
       "                                               Title\n",
       "0  Bitcoin Edges Below $28K as Investors Eye U.S....\n",
       "1  ProShares’ Bitcoin Futures ETF Underperforms B...\n",
       "2  Bitcoin on-chain and options data hint at a de...\n",
       "3  CoinDesk Turns 10: 2021 – The Year Bitcoin Bec...\n",
       "4              Should Russia Bolster or Ban Bitcoin?"
      ]
     },
     "execution_count": 23,
     "metadata": {},
     "output_type": "execute_result"
    }
   ],
   "source": [
    "# Store news titles\n",
    "news_titles = []\n",
    "# Retrieve api key from environment variable\n",
    "load_dotenv()\n",
    "news_api_key = os.getenv(\"NEWS_API_KEY\")\n",
    "# Specify start timestamp\n",
    "start_timestamp = to_unix_timestamp(\"2023-05-01T00:00:00+00:00\")\n",
    "# Specify end timestamp\n",
    "end_timestamp = to_unix_timestamp(\"2023-05-31T00:00:00+00:00\")\n",
    "\n",
    "def get_news_titles(end_time):\n",
    "    # Stop recursion if end timestamp <= specified start timestamp\n",
    "    if end_time <= start_timestamp: return\n",
    "    \n",
    "    # Get bitcoin news before specified end timestamp\n",
    "    response = requests.get(f\"https://min-api.cryptocompare.com/data/v2/news/?feeds=coindesk,cointelegraph&categories=BTC&lTs={end_time}&api_key={news_api_key}\")\n",
    "    # Parse response into json format\n",
    "    news_data = response.json()\n",
    "\n",
    "    # Go through each news data\n",
    "    for news in news_data[\"Data\"]:\n",
    "        # Stop going through each news data if current news data timestamp <= specified start timestamp\n",
    "        if news[\"published_on\"] <= start_timestamp: break\n",
    "        # Add news title into news_titles list\n",
    "        news_titles.append(news[\"title\"])\n",
    "\n",
    "    # Update end timestamp to last news data timestamp\n",
    "    end_timestamp = news_data[\"Data\"][-1][\"published_on\"]\n",
    "    # Recall function with updated end timestamp\n",
    "    get_news_titles(end_timestamp)\n",
    "\n",
    "# Get news titles from specified start to end timestamp\n",
    "get_news_titles(end_timestamp)\n",
    "# Create dataframe from news_titles list\n",
    "news_df = pd.DataFrame(data = news_titles, columns = [\"Title\"])   \n",
    "\n",
    "news_df.head()"
   ]
  },
  {
   "cell_type": "markdown",
   "id": "6c25629c",
   "metadata": {},
   "source": [
    "## **6.3 Sentiment Analysis**\n",
    "\n",
    "### **Predicting text sentiments**\n",
    "\n",
    "The \"distilbert-base-uncased-finetuned-sst-2-english\" model from Hugging Face [12] is a model that predicts positive or negative sentiments in text. That makes it perfect for analysing Bitcoin market sentiments.\n",
    "\n",
    "The following code feeds all news titles into the sentiment analysis model:"
   ]
  },
  {
   "cell_type": "code",
   "execution_count": 24,
   "id": "4931f471",
   "metadata": {},
   "outputs": [
    {
     "data": {
      "text/html": [
       "<div>\n",
       "<style scoped>\n",
       "    .dataframe tbody tr th:only-of-type {\n",
       "        vertical-align: middle;\n",
       "    }\n",
       "\n",
       "    .dataframe tbody tr th {\n",
       "        vertical-align: top;\n",
       "    }\n",
       "\n",
       "    .dataframe thead th {\n",
       "        text-align: right;\n",
       "    }\n",
       "</style>\n",
       "<table border=\"1\" class=\"dataframe\">\n",
       "  <thead>\n",
       "    <tr style=\"text-align: right;\">\n",
       "      <th></th>\n",
       "      <th>Title</th>\n",
       "      <th>Sentiment</th>\n",
       "    </tr>\n",
       "  </thead>\n",
       "  <tbody>\n",
       "    <tr>\n",
       "      <th>0</th>\n",
       "      <td>Bitcoin Edges Below $28K as Investors Eye U.S....</td>\n",
       "      <td>NEGATIVE</td>\n",
       "    </tr>\n",
       "    <tr>\n",
       "      <th>1</th>\n",
       "      <td>ProShares’ Bitcoin Futures ETF Underperforms B...</td>\n",
       "      <td>NEGATIVE</td>\n",
       "    </tr>\n",
       "    <tr>\n",
       "      <th>2</th>\n",
       "      <td>Bitcoin on-chain and options data hint at a de...</td>\n",
       "      <td>POSITIVE</td>\n",
       "    </tr>\n",
       "    <tr>\n",
       "      <th>3</th>\n",
       "      <td>CoinDesk Turns 10: 2021 – The Year Bitcoin Bec...</td>\n",
       "      <td>NEGATIVE</td>\n",
       "    </tr>\n",
       "    <tr>\n",
       "      <th>4</th>\n",
       "      <td>Should Russia Bolster or Ban Bitcoin?</td>\n",
       "      <td>NEGATIVE</td>\n",
       "    </tr>\n",
       "  </tbody>\n",
       "</table>\n",
       "</div>"
      ],
      "text/plain": [
       "                                               Title Sentiment\n",
       "0  Bitcoin Edges Below $28K as Investors Eye U.S....  NEGATIVE\n",
       "1  ProShares’ Bitcoin Futures ETF Underperforms B...  NEGATIVE\n",
       "2  Bitcoin on-chain and options data hint at a de...  POSITIVE\n",
       "3  CoinDesk Turns 10: 2021 – The Year Bitcoin Bec...  NEGATIVE\n",
       "4              Should Russia Bolster or Ban Bitcoin?  NEGATIVE"
      ]
     },
     "execution_count": 24,
     "metadata": {},
     "output_type": "execute_result"
    }
   ],
   "source": [
    "# Store sentiment results\n",
    "sentiment_results = []\n",
    "# Load pre-trained sentiment analysis model\n",
    "sentiment_model = pipeline(\"sentiment-analysis\", model = \"distilbert-base-uncased-finetuned-sst-2-english\")\n",
    "\n",
    "# Go through each news title\n",
    "for news_title in news_titles:\n",
    "    # Feed each news title into model for sentiment analysis and store results into a list\n",
    "    sentiment_results.append(sentiment_model(news_title))\n",
    "\n",
    "# Add Sentiment results into news dataframe\n",
    "news_df[\"Sentiment\"] = [label[0][\"label\"] for label in sentiment_results]\n",
    "\n",
    "news_df.head()"
   ]
  },
  {
   "cell_type": "markdown",
   "id": "fc3409a1",
   "metadata": {},
   "source": [
    "### **Bar plot (Bitcoin Market Sentiments)**"
   ]
  },
  {
   "cell_type": "code",
   "execution_count": 25,
   "id": "bc8a51cc",
   "metadata": {},
   "outputs": [
    {
     "data": {
      "image/png": "[encoded data removed]",
      "text/plain": [
       "<Figure size 1000x200 with 1 Axes>"
      ]
     },
     "metadata": {},
     "output_type": "display_data"
    }
   ],
   "source": [
    "# Create plot and set figure size\n",
    "fig, axes = plt.subplots(figsize = (10, 2))\n",
    "\n",
    "# Get value counts for positive and negative sentiments\n",
    "sentiment_count = news_df[\"Sentiment\"].value_counts()\n",
    "# Plot positive and negative bar plot\n",
    "axes.barh(0, sentiment_count[\"POSITIVE\"], color = \"#34d399\")\n",
    "axes.barh(1, sentiment_count[\"NEGATIVE\"], color = \"#f87171\")\n",
    "\n",
    "# Set title\n",
    "axes.set_title(\"Bitcoin Market Sentiment (May 2023)\")\n",
    "# Set x limit to total number of news\n",
    "axes.set_xlim(0, len(news_df))\n",
    "# Set y-axis labels and ticks\n",
    "axes.set_yticks([0, 1])\n",
    "axes.set_yticklabels([\"POSITIVE\", \"NEGATIVE\"])\n",
    "# Calculate percentage of positive and negative sentiments\n",
    "positive_pct = round(sentiment_count[\"POSITIVE\"] / len(news_df) * 100, 2)\n",
    "negative_pct = round(sentiment_count[\"NEGATIVE\"] / len(news_df) * 100, 2)\n",
    "# Add percentage into bar plot\n",
    "axes.text(sentiment_count[\"POSITIVE\"] + 5, 0, f\"{positive_pct}%\", va = \"center\")\n",
    "axes.text(sentiment_count[\"NEGATIVE\"] + 5, 1, f\"{negative_pct}%\", va = \"center\")\n",
    "\n",
    "plt.show()"
   ]
  },
  {
   "cell_type": "markdown",
   "id": "64fd8d72",
   "metadata": {},
   "source": [
    "### **Chart Observation**\n",
    "\n",
    "Based on the sentiment bar chart, we can observe the following:\n",
    "- The market sentiment towards Bitcoin was extremely poor in May 2023 at 82.03%\n",
    "\n",
    "Based on this observation, it is clear that such negativity played a significant influence in instilling fear, uncertainty, and doubt in investors. That caused Bitcoin prices to plummet tremendously, explaining why May 2023 was the lowest point in the correlation coefficient."
   ]
  },
  {
   "cell_type": "markdown",
   "id": "039b3e8e",
   "metadata": {},
   "source": [
    "# **7 Conclusion**\n",
    "In conclusion, the correlation between the S&P 500 Index and Bitcoin is highly complex. An overall correlation coefficient of 0.30 (2p.) indicates a weak to moderate positive correlation. However, such an indication does not fully capture fluctuations over time. The 30-day rolling correlation coefficient revealed these fluctuations with notable outliers, such as in May 2023, when the correlation coefficient dipped to its lowest in the last 3.5 years.\n",
    "\n",
    "In May 2023, the S&P 500 Index saw a positive trend, whereas Bitcoin saw a decline. This inverse relationship between the two assets gives a clear explanation for the period's low correlation coefficient. Further analysis of market sentiments revealed tremendous negativity toward Bitcoin, which confirms its downward trajectory.\n",
    "\n",
    "These findings suggest the importance of considering market sentiments and statistical measurements when evaluating asset correlations. In addition, the highly negative sentiment in May 2023 proves how vital these sentiments can be in influencing market behavior— we can achieve a deeper understanding of how the market works by bridging observed negative correlations with sentiment analysis."
   ]
  },
  {
   "cell_type": "markdown",
   "id": "d37e790a",
   "metadata": {},
   "source": [
    "## **7.1 References and Resources**\n",
    "- [1] Yahoo Finance. (2023) S&P 500 INDEX [Online]. Available from: https://finance.yahoo.com/quote/%5ESPX/history?p=%5ESPX [12 June 2023].\n",
    "- [2] Google Finance. (2023) S&P 500 INDEX [Online]. Available from: https://www.google.com/finance/quote/.INX:INDEXSP [12 June 2023].\n",
    "- [3] Polygon.io. (2023) Stock API [Online]. Available from: https://polygon.io/stocks [12 June 2023].\n",
    "- [4] Binance. (2023) Historical Market Data [Online]. Available from: https://www.binance.com/en/landing/data [15 June 2023].\n",
    "- [5] Github. (2023) Binance Public Data [Online]. Available from: https://github.com/binance/binance-public-data/tree/master [15 June 2023].\n",
    "- [6] CoinMarketCap. (2023) API Documentation [Online]. Available from: https://pro.coinmarketcap.com/api/documentation/v1/# [16 June 2023].\n",
    "- [7] CoinGecko. (2023) Explore the API [Online]. Available from: https://www.coingecko.com/en/api/documentation [16 June 2023].\n",
    "- [8] Fernando, J. (2023) The Correlation Coefficient: What It Is, What It Tells Investors [Online] Investopedia. Available from: https://www.investopedia.com/terms/c/correlationcoefficient.asp [19 June 2023].\n",
    "- [9] Coindesk. (2023) Bitcoin [Online]. Available from: https://www.coindesk.com/search?s=Bitcoin&cf=Markets [22 June 2023].\n",
    "- [10] Cointelegraph. (2023) Bitcoin News [Online]. Available from: https://cointelegraph.com/tags/bitcoin [22 June 2023].\n",
    "- [11] CrytoCompare. (2023) Latest News Articles [Online]. Available from: https://min-api.cryptocompare.com/documentation?key=News&cat=latestNewsArticlesEndpoint [22 June 2023].\n",
    "- [12] Hugging Face. (2023) DistilBERT base uncased finetuned SST-2 [Online]. Availble from: https://huggingface.co/distilbert-base-uncased-finetuned-sst-2-english#distilbert-base-uncased-finetuned-sst-2 [23 June 2023]."
   ]
  }
 ],
 "metadata": {
  "kernelspec": {
   "display_name": "Python 3 (ipykernel)",
   "language": "python",
   "name": "python3"
  },
  "language_info": {
   "codemirror_mode": {
    "name": "ipython",
    "version": 3
   },
   "file_extension": ".py",
   "mimetype": "text/x-python",
   "name": "python",
   "nbconvert_exporter": "python",
   "pygments_lexer": "ipython3",
   "version": "3.10.9"
  }
 },
 "nbformat": 4,
 "nbformat_minor": 5
}
